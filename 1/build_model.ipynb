{
 "cells": [
  {
   "cell_type": "code",
   "execution_count": 1,
   "metadata": {},
   "outputs": [],
   "source": [
    "import os\n",
    "import torch\n",
    "from torch import nn \n",
    "from torch.utils.data import DataLoader\n",
    "from torchvision import datasets, transforms"
   ]
  },
  {
   "cell_type": "code",
   "execution_count": 4,
   "metadata": {},
   "outputs": [],
   "source": [
    "class NeuralNetwork(nn.Module):\n",
    "\n",
    "    def __init__(self):\n",
    "        super(NeuralNetwork, self).__init__()\n",
    "        self.flatten = nn.Flatten()\n",
    "        self.linear_relu_stack = nn.Sequential(\n",
    "            nn.Linear(28*28, 512),\n",
    "            nn.ReLU(),\n",
    "            nn.Linear(512, 512),\n",
    "            nn.ReLU(),\n",
    "            nn.Linear(512, 10)\n",
    "        )\n",
    "    \n",
    "    def forward(self, x):\n",
    "        x = self.flatten(x)\n",
    "        logits = self.linear_relu_stack(x)\n",
    "\n",
    "        return logits"
   ]
  },
  {
   "cell_type": "code",
   "execution_count": 5,
   "metadata": {},
   "outputs": [
    {
     "name": "stdout",
     "output_type": "stream",
     "text": [
      "NeuralNetwork(\n",
      "  (flatten): Flatten(start_dim=1, end_dim=-1)\n",
      "  (linear_relu_stack): Sequential(\n",
      "    (0): Linear(in_features=784, out_features=512, bias=True)\n",
      "    (1): ReLU()\n",
      "    (2): Linear(in_features=512, out_features=512, bias=True)\n",
      "    (3): ReLU()\n",
      "    (4): Linear(in_features=512, out_features=10, bias=True)\n",
      "  )\n",
      ")\n"
     ]
    }
   ],
   "source": [
    "model = NeuralNetwork()\n",
    "print(model)"
   ]
  },
  {
   "cell_type": "code",
   "execution_count": 10,
   "metadata": {},
   "outputs": [
    {
     "name": "stdout",
     "output_type": "stream",
     "text": [
      "torch.Size([1, 28, 28])\n",
      "tensor([[ 0.0694,  0.0042,  0.1082, -0.0677, -0.0352, -0.0113, -0.0386, -0.0036,\n",
      "         -0.0873, -0.0226]], grad_fn=<AddmmBackward>)\n",
      "tensor([[0.1079, 0.1011, 0.1122, 0.0941, 0.0972, 0.0996, 0.0969, 0.1003, 0.0923,\n",
      "         0.0984]], grad_fn=<SoftmaxBackward>)\n",
      "Predicted class: tensor([2])\n"
     ]
    }
   ],
   "source": [
    "X = torch.rand(1,28, 28)\n",
    "print(X.shape)\n",
    "logits = model(X)\n",
    "print(logits)\n",
    "pred_prob = nn.Softmax(dim=1)(logits)\n",
    "print(pred_prob)\n",
    "y_pred = pred_prob.argmax(1)\n",
    "print(f'Predicted class: {y_pred}')"
   ]
  },
  {
   "cell_type": "code",
   "execution_count": 11,
   "metadata": {},
   "outputs": [
    {
     "name": "stdout",
     "output_type": "stream",
     "text": [
      "torch.Size([3, 28, 28])\n"
     ]
    }
   ],
   "source": [
    "input_image = torch.rand(3,28,28)\n",
    "print(input_image.size())"
   ]
  },
  {
   "cell_type": "code",
   "execution_count": 12,
   "metadata": {},
   "outputs": [
    {
     "name": "stdout",
     "output_type": "stream",
     "text": [
      "torch.Size([3, 784])\n"
     ]
    }
   ],
   "source": [
    "flatten = nn.Flatten()\n",
    "flat_image = flatten(input_image)\n",
    "print(flat_image.size())"
   ]
  },
  {
   "cell_type": "code",
   "execution_count": 15,
   "metadata": {},
   "outputs": [
    {
     "name": "stdout",
     "output_type": "stream",
     "text": [
      "torch.Size([3, 20])\n"
     ]
    }
   ],
   "source": [
    "layer1 = nn.Linear(in_features=28*28, out_features=20)\n",
    "hidden1 = layer1(flat_image)\n",
    "print(hidden1.size())"
   ]
  },
  {
   "cell_type": "code",
   "execution_count": 17,
   "metadata": {},
   "outputs": [
    {
     "name": "stdout",
     "output_type": "stream",
     "text": [
      "Before ReLU: tensor([[-0.2044, -0.0592,  0.5200,  0.1253,  0.2341,  0.5041, -0.4535, -0.3220,\n",
      "          0.1149, -0.5285, -0.1855, -0.1423,  0.2543,  0.1757, -0.2570,  0.5648,\n",
      "         -0.4954,  0.0042, -0.0718,  0.2717],\n",
      "        [-0.2591, -0.2130,  0.7785, -0.4038,  0.4218,  0.3425, -1.1437,  0.0250,\n",
      "          0.4965, -0.1906, -0.2268, -0.2826,  0.2077, -0.2342, -0.4005,  0.3342,\n",
      "         -0.3339,  0.3067, -0.0651,  0.3390],\n",
      "        [-0.1774,  0.0785,  0.6265, -0.4300,  0.0962,  0.2121, -0.5313,  0.0458,\n",
      "          0.5684, -0.0931, -0.5756, -0.3612,  0.5708, -0.1909, -0.3055, -0.1124,\n",
      "         -0.5680,  0.3869, -0.0763,  0.1190]], grad_fn=<AddmmBackward>)\n",
      "\n",
      "After ReLU: tensor([[0.0000, 0.0000, 0.5200, 0.1253, 0.2341, 0.5041, 0.0000, 0.0000, 0.1149,\n",
      "         0.0000, 0.0000, 0.0000, 0.2543, 0.1757, 0.0000, 0.5648, 0.0000, 0.0042,\n",
      "         0.0000, 0.2717],\n",
      "        [0.0000, 0.0000, 0.7785, 0.0000, 0.4218, 0.3425, 0.0000, 0.0250, 0.4965,\n",
      "         0.0000, 0.0000, 0.0000, 0.2077, 0.0000, 0.0000, 0.3342, 0.0000, 0.3067,\n",
      "         0.0000, 0.3390],\n",
      "        [0.0000, 0.0785, 0.6265, 0.0000, 0.0962, 0.2121, 0.0000, 0.0458, 0.5684,\n",
      "         0.0000, 0.0000, 0.0000, 0.5708, 0.0000, 0.0000, 0.0000, 0.0000, 0.3869,\n",
      "         0.0000, 0.1190]], grad_fn=<ReluBackward0>)\n",
      "\n",
      "After ReLU6: tensor([[0.0000, 0.0000, 0.5200, 0.1253, 0.2341, 0.5041, 0.0000, 0.0000, 0.1149,\n",
      "         0.0000, 0.0000, 0.0000, 0.2543, 0.1757, 0.0000, 0.5648, 0.0000, 0.0042,\n",
      "         0.0000, 0.2717],\n",
      "        [0.0000, 0.0000, 0.7785, 0.0000, 0.4218, 0.3425, 0.0000, 0.0250, 0.4965,\n",
      "         0.0000, 0.0000, 0.0000, 0.2077, 0.0000, 0.0000, 0.3342, 0.0000, 0.3067,\n",
      "         0.0000, 0.3390],\n",
      "        [0.0000, 0.0785, 0.6265, 0.0000, 0.0962, 0.2121, 0.0000, 0.0458, 0.5684,\n",
      "         0.0000, 0.0000, 0.0000, 0.5708, 0.0000, 0.0000, 0.0000, 0.0000, 0.3869,\n",
      "         0.0000, 0.1190]], grad_fn=<HardtanhBackward0>)\n",
      "\n",
      "After LeakyReLU: tensor([[-2.0438e-03, -5.9173e-04,  5.2004e-01,  1.2531e-01,  2.3413e-01,\n",
      "          5.0411e-01, -4.5347e-03, -3.2202e-03,  1.1495e-01, -5.2851e-03,\n",
      "         -1.8552e-03, -1.4234e-03,  2.5429e-01,  1.7565e-01, -2.5697e-03,\n",
      "          5.6483e-01, -4.9540e-03,  4.1550e-03, -7.1782e-04,  2.7167e-01],\n",
      "        [-2.5913e-03, -2.1297e-03,  7.7850e-01, -4.0381e-03,  4.2176e-01,\n",
      "          3.4253e-01, -1.1437e-02,  2.4979e-02,  4.9646e-01, -1.9060e-03,\n",
      "         -2.2676e-03, -2.8258e-03,  2.0768e-01, -2.3417e-03, -4.0050e-03,\n",
      "          3.3417e-01, -3.3393e-03,  3.0672e-01, -6.5085e-04,  3.3904e-01],\n",
      "        [-1.7735e-03,  7.8466e-02,  6.2647e-01, -4.3002e-03,  9.6247e-02,\n",
      "          2.1207e-01, -5.3128e-03,  4.5804e-02,  5.6840e-01, -9.3083e-04,\n",
      "         -5.7560e-03, -3.6115e-03,  5.7079e-01, -1.9089e-03, -3.0552e-03,\n",
      "         -1.1245e-03, -5.6798e-03,  3.8689e-01, -7.6265e-04,  1.1904e-01]],\n",
      "       grad_fn=<LeakyReluBackward0>)\n"
     ]
    }
   ],
   "source": [
    "print(f'Before ReLU: {hidden1}\\n')\n",
    "hidden_out = nn.ReLU()(hidden1)\n",
    "print(f'After ReLU: {hidden_out}\\n')\n",
    "hidden_out = nn.ReLU6()(hidden1)\n",
    "print(f'After ReLU6: {hidden_out}\\n')\n",
    "hidden_out = nn.LeakyReLU()(hidden1)\n",
    "print(f'After LeakyReLU: {hidden_out}')"
   ]
  },
  {
   "cell_type": "code",
   "execution_count": 18,
   "metadata": {},
   "outputs": [],
   "source": [
    "seq_modules = nn.Sequential(\n",
    "    flatten,\n",
    "    layer1,\n",
    "    nn.ReLU(),\n",
    "    nn.Linear(20,10)\n",
    ")"
   ]
  },
  {
   "cell_type": "code",
   "execution_count": 20,
   "metadata": {},
   "outputs": [
    {
     "name": "stdout",
     "output_type": "stream",
     "text": [
      "tensor([[-0.1741, -0.0516,  0.1427, -0.0261, -0.2290,  0.0553,  0.0918, -0.0583,\n",
      "          0.0205, -0.0463],\n",
      "        [-0.1658, -0.0349,  0.0799, -0.0138, -0.3314,  0.0077,  0.1389, -0.1149,\n",
      "         -0.0530, -0.0727],\n",
      "        [-0.2769, -0.1057,  0.0334,  0.1480, -0.2709, -0.0546,  0.1290, -0.1233,\n",
      "          0.0869, -0.0398]], grad_fn=<AddmmBackward>)\n",
      "tensor([[0.0859, 0.0971, 0.1179, 0.0996, 0.0813, 0.1080, 0.1120, 0.0964, 0.1043,\n",
      "         0.0976],\n",
      "        [0.0889, 0.1014, 0.1137, 0.1035, 0.0754, 0.1058, 0.1206, 0.0936, 0.0996,\n",
      "         0.0976],\n",
      "        [0.0787, 0.0934, 0.1073, 0.1204, 0.0792, 0.0983, 0.1181, 0.0918, 0.1132,\n",
      "         0.0997]], grad_fn=<SoftmaxBackward>)\n"
     ]
    }
   ],
   "source": [
    "input_image = torch.rand(3,28,28)\n",
    "logits = seq_modules(input_image)\n",
    "\n",
    "print(logits)\n",
    "\n",
    "softmax = nn.Softmax(dim=1)\n",
    "pred_prob = softmax(logits)\n",
    "\n",
    "print(pred_prob)"
   ]
  },
  {
   "cell_type": "code",
   "execution_count": 21,
   "metadata": {},
   "outputs": [
    {
     "name": "stdout",
     "output_type": "stream",
     "text": [
      "Model Structure: NeuralNetwork(\n",
      "  (flatten): Flatten(start_dim=1, end_dim=-1)\n",
      "  (linear_relu_stack): Sequential(\n",
      "    (0): Linear(in_features=784, out_features=512, bias=True)\n",
      "    (1): ReLU()\n",
      "    (2): Linear(in_features=512, out_features=512, bias=True)\n",
      "    (3): ReLU()\n",
      "    (4): Linear(in_features=512, out_features=10, bias=True)\n",
      "  )\n",
      ")\n",
      "\n",
      "\n",
      "Layer: linear_relu_stack.0.weight | Size: torch.Size([512, 784]) | Values: tensor([[-0.0321, -0.0022,  0.0301,  ..., -0.0270,  0.0230, -0.0076],\n",
      "        [-0.0117,  0.0334, -0.0342,  ...,  0.0263, -0.0167, -0.0116]],\n",
      "       grad_fn=<SliceBackward>)\n",
      "\n",
      "Layer: linear_relu_stack.0.bias | Size: torch.Size([512]) | Values: tensor([-0.0151, -0.0112], grad_fn=<SliceBackward>)\n",
      "\n",
      "Layer: linear_relu_stack.2.weight | Size: torch.Size([512, 512]) | Values: tensor([[ 0.0021,  0.0005,  0.0136,  ...,  0.0330,  0.0398, -0.0168],\n",
      "        [ 0.0404, -0.0070,  0.0189,  ..., -0.0254,  0.0198,  0.0092]],\n",
      "       grad_fn=<SliceBackward>)\n",
      "\n",
      "Layer: linear_relu_stack.2.bias | Size: torch.Size([512]) | Values: tensor([0.0299, 0.0183], grad_fn=<SliceBackward>)\n",
      "\n",
      "Layer: linear_relu_stack.4.weight | Size: torch.Size([10, 512]) | Values: tensor([[-0.0401,  0.0383,  0.0107,  ...,  0.0102, -0.0415, -0.0199],\n",
      "        [ 0.0283,  0.0360,  0.0275,  ..., -0.0404,  0.0176,  0.0098]],\n",
      "       grad_fn=<SliceBackward>)\n",
      "\n",
      "Layer: linear_relu_stack.4.bias | Size: torch.Size([10]) | Values: tensor([-0.0026, -0.0254], grad_fn=<SliceBackward>)\n",
      "\n"
     ]
    }
   ],
   "source": [
    "print(f'Model Structure: {model}\\n\\n')\n",
    "\n",
    "for name, param in model.named_parameters():\n",
    "    print(f'Layer: {name} | Size: {param.size()} | Values: {param[:2]}\\n')"
   ]
  },
  {
   "cell_type": "code",
   "execution_count": null,
   "metadata": {},
   "outputs": [],
   "source": []
  }
 ],
 "metadata": {
  "kernelspec": {
   "display_name": "Python 3.9.5 ('computervision')",
   "language": "python",
   "name": "python3"
  },
  "language_info": {
   "codemirror_mode": {
    "name": "ipython",
    "version": 3
   },
   "file_extension": ".py",
   "mimetype": "text/x-python",
   "name": "python",
   "nbconvert_exporter": "python",
   "pygments_lexer": "ipython3",
   "version": "3.9.5"
  },
  "orig_nbformat": 4,
  "vscode": {
   "interpreter": {
    "hash": "dd2709105bfd62fddee0aad68a7acc0a7e04346d67b881685f4745910bf48497"
   }
  }
 },
 "nbformat": 4,
 "nbformat_minor": 2
}
